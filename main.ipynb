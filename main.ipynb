{
 "cells": [
  {
   "cell_type": "markdown",
   "id": "2906d51a",
   "metadata": {},
   "source": [
    "# Text-to-Speech"
   ]
  },
  {
   "cell_type": "code",
   "execution_count": 14,
   "id": "62ffc867",
   "metadata": {},
   "outputs": [],
   "source": [
    "from datetime import datetime\n",
    "from gtts import gTTS #instalar a biblioteca gTTS !pip install gTTS\n",
    "from IPython.display import Audio\n",
    "from pygame import mixer\n",
    "import speech_recognition as sr\n",
    "import os\n",
    "import wikipedia\n",
    "import webbrowser\n",
    "import winshell"
   ]
  },
  {
   "cell_type": "code",
   "execution_count": null,
   "id": "1e8e592b",
   "metadata": {},
   "outputs": [
    {
     "data": {
      "text/html": [
       "\n",
       "                <audio  controls=\"controls\" >\n",
       "                    <source src=\"data:audio/wav;base64,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\" type=\"audio/wav\" />\n",
       "                    Your browser does not support the audio element.\n",
       "                </audio>\n",
       "              "
      ],
      "text/plain": [
       "<IPython.lib.display.Audio object>"
      ]
     },
     "execution_count": 16,
     "metadata": {},
     "output_type": "execute_result"
    }
   ],
   "source": [
    "text_to_say = \"How are you doing?\"\n",
    "text_to_speech = gTTS(text = text_to_say, lang = 'en', slow = False)\n",
    "text_to_speech.save(\".content/gtts.wav\")\n",
    "Audio(\"content/gtts.wav\")"
   ]
  },
  {
   "cell_type": "code",
   "execution_count": null,
   "id": "a1d00e54",
   "metadata": {},
   "outputs": [],
   "source": [
    "def get_audio():\n",
    "    r = sr.Recognizer()\n",
    "    with sr.Microphone() as source:\n",
    "        r.pause_threshold = 1\n",
    "        # wait for a second to let the recognizer adjust the\n",
    "        # energy threshold based on the surrounding noise level\n",
    "        r.adjust_for_ambient_noise(source, duration=1)\n",
    "        audio = r.listen(source)\n",
    "        said = \"\"\n",
    "        try:\n",
    "            said = r.recognize_google(audio)\n",
    "            print(said)\n",
    "        except sr.UnknownValueError:\n",
    "            speak(\"Sorry, I didn't get that.\")\n",
    "        except sr.RequestError:\n",
    "            speak(\"Sorry, the service is not available\")\n",
    "    return said.lower()\n",
    "\n",
    "#speak converted audio to text\n",
    "def speak(text):\n",
    "    text_to_speech = gTTS(text=text, lang='en')\n",
    "    filename = \".content/voice.mp3\"\n",
    "    try:\n",
    "        os.remove(filename)\n",
    "    except OSError:\n",
    "        pass\n",
    "    text_to_speech.save(filename)\n",
    "    Audio(filename)\n",
    "\n",
    "#function to respond to commands\n",
    "def respond(text):\n",
    "    print(f'Text from the audio: \"{text}\"')\n",
    "    if 'youtube' in text:\n",
    "\n",
    "        speak(\"What do you want to search for?\")\n",
    "        keyword = get_audio()\n",
    "        if keyword!= '':\n",
    "            url = f\"https://www.youtube.com/results?search_query={keyword}\"\n",
    "            webbrowser.get().open(url)\n",
    "            speak(f\"Here is what I have found for {keyword} on youtube\")\n",
    "\n",
    "    elif 'search' in text:\n",
    "\n",
    "        speak(\"What do you want to search for?\")\n",
    "        query = get_audio()\n",
    "        if query != '':\n",
    "            result = wikipedia.summary(query, sentences=3)\n",
    "            speak(\"According to wikipedia\")\n",
    "            print(result)\n",
    "            speak(result)\n",
    "\n",
    "    elif 'empty recycle bin' in text:\n",
    "\n",
    "        winshell.recycle_bin().empty(confirm=False, show_progress=False, sound=True)\n",
    "        speak(\"Recycle bin emptied\")\n",
    "\n",
    "    elif 'what time' in text:\n",
    "\n",
    "        str_time = datetime.today().strftime(\"%H:%M %p\")\n",
    "        print(str_time)\n",
    "        speak(str_time)\n",
    "\n",
    "    elif 'play music' in text or 'play song' in text:\n",
    "\n",
    "        speak(\"Now playing...\")\n",
    "        music_dir = \"C:/Users/UserName/Downloads/Music/\" #add your music directory here..\n",
    "        songs = os.listdir(music_dir)\n",
    "        print(songs)\n",
    "\n",
    "        if len(songs) > 0:\n",
    "            play_music(music_dir + \"/\" + songs[0])\n",
    "        else:\n",
    "            raise FileNotFoundError(\"You don't have any music to play!\")\n",
    "        \n",
    "    elif 'stop music' in text:\n",
    "\n",
    "        speak(\"Stopping playback.\")\n",
    "        stop_music()\n",
    "\n",
    "    elif 'exit' in text:\n",
    "\n",
    "        speak(\"Goodbye, till next time\")\n",
    "        exit()\n",
    "\n",
    "def play_music(song):\n",
    "    mixer.init()\n",
    "    mixer.music.load(song)\n",
    "    mixer.music.play()\n",
    "\n",
    "def stop_music():\n",
    "    mixer.music.stop()"
   ]
  },
  {
   "cell_type": "code",
   "execution_count": null,
   "id": "bbdfb163",
   "metadata": {},
   "outputs": [],
   "source": [
    "while True:\n",
    "    print(\"I am listening...\")\n",
    "    text = get_audio()\n",
    "    respond(text)"
   ]
  }
 ],
 "metadata": {
  "kernelspec": {
   "display_name": ".venv",
   "language": "python",
   "name": "python3"
  },
  "language_info": {
   "codemirror_mode": {
    "name": "ipython",
    "version": 3
   },
   "file_extension": ".py",
   "mimetype": "text/x-python",
   "name": "python",
   "nbconvert_exporter": "python",
   "pygments_lexer": "ipython3",
   "version": "3.13.3"
  }
 },
 "nbformat": 4,
 "nbformat_minor": 5
}
